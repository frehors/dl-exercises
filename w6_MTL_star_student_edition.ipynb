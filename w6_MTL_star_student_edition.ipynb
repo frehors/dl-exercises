{
  "cells": [
    {
      "cell_type": "markdown",
      "metadata": {
        "colab_type": "text",
        "id": "view-in-github"
      },
      "source": [
        "<a href=\"https://colab.research.google.com/github/frehors/dl-exercises/blob/main/w6_MTL_star_student_edition.ipynb\" target=\"_parent\"><img src=\"https://colab.research.google.com/assets/colab-badge.svg\" alt=\"Open In Colab\"/></a>"
      ]
    },
    {
      "cell_type": "markdown",
      "metadata": {
        "id": "Nx1du__PqMWZ"
      },
      "source": [
        "The task in this notebook is to train a network which, given an image of a star, will calculate both the number of points on the star, as well as its width. \n",
        "\n",
        "Thus this will be a multi-task network, performing two completely different tasks simultaneously. \n"
      ]
    },
    {
      "cell_type": "code",
      "execution_count": 12,
      "metadata": {
        "id": "_ZOM0MBSTmVL"
      },
      "outputs": [],
      "source": [
        "#%% import stuff:\n",
        "\n",
        "import matplotlib.pyplot as plt\n",
        "import numpy as np\n",
        "import pickle \n",
        "\n",
        "import torch\n",
        "import torch.nn as nn"
      ]
    },
    {
      "cell_type": "markdown",
      "metadata": {
        "id": "xKjDsEy8FjHr"
      },
      "source": [
        "The cell below assumes you have already downloaded the dataset from brightspace, and put it in your google drive folder. It demonstrates how to use google drive together with a colab notebook."
      ]
    },
    {
      "cell_type": "code",
      "execution_count": 3,
      "metadata": {
        "colab": {
          "base_uri": "https://localhost:8080/"
        },
        "id": "w39eu-buTV55",
        "outputId": "a9a8a4d7-0844-47c6-92bb-05e36744d9c7"
      },
      "outputs": [],
      "source": [
        "temp=pickle.load(open('./data/starData.p','rb'))\n",
        "X=temp['X']\n",
        "y=temp['y']\n"
      ]
    },
    {
      "cell_type": "code",
      "execution_count": 4,
      "metadata": {
        "colab": {
          "base_uri": "https://localhost:8080/",
          "height": 285
        },
        "id": "mu0NWnqR9C-p",
        "outputId": "e6808207-eb4f-4a6b-f32c-a4aabe6a21cf"
      },
      "outputs": [
        {
          "name": "stdout",
          "output_type": "stream",
          "text": [
            "tensor([5.0000, 3.1239])\n"
          ]
        },
        {
          "data": {
            "image/png": "[encoded data removed]",
            "text/plain": [
              "<Figure size 640x480 with 1 Axes>"
            ]
          },
          "metadata": {},
          "output_type": "display_data"
        }
      ],
      "source": [
        "#Let's plot an example\n",
        "idx=125\n",
        "plt.imshow(np.squeeze(X[125,:,:,:],axis=0))\n",
        "print(y[idx,:]) #first column is number of points, second is size of the star"
      ]
    },
    {
      "cell_type": "code",
      "execution_count": 19,
      "metadata": {
        "id": "14iffVhhTkWY"
      },
      "outputs": [],
      "source": [
        "#%% make datasets & loaders\n",
        "from torch.utils.data import Dataset, DataLoader\n",
        "from sklearn.model_selection import train_test_split\n",
        "\n",
        "class StarDataset(Dataset):\n",
        "    def __init__(self, X, y):\n",
        "        self.X = X\n",
        "        self.y = y\n",
        "        self.n = X.shape[0]\n",
        "    def __len__(self):\n",
        "        return self.n\n",
        "    def __getitem__(self, idx):\n",
        "        return self.X[idx,:,:,:], self.y[idx,:] #return image and label\n",
        "\n",
        "#make datasets\n",
        "\n",
        "\n",
        "#split in val and train\n",
        "X_train, X_val, y_train, y_val = train_test_split(X, y, test_size=0.2, random_state=42)\n",
        "\n",
        "\n",
        "#make datasets (TensorDataset will do)\n",
        "train_dataset = StarDataset(X_train, y_train)\n",
        "val_dataset = StarDataset(X_val, y_val)\n",
        "\n",
        "#make dataloaders\n",
        "trainLoader = DataLoader(train_dataset, batch_size=32, shuffle=True)\n",
        "valLoader = DataLoader(val_dataset, batch_size=32, shuffle=True)\n"
      ]
    },
    {
      "cell_type": "code",
      "execution_count": 10,
      "metadata": {
        "id": "6HtnbXn0NXyj"
      },
      "outputs": [
        {
          "data": {
            "text/plain": [
              "tensor([[ 0.0151, -0.0567]], grad_fn=<AddmmBackward0>)"
            ]
          },
          "execution_count": 10,
          "metadata": {},
          "output_type": "execute_result"
        }
      ],
      "source": [
        "#%% make network\n",
        "\n",
        "#something simple like cnn-cnn-fc-relu-fc will do\n",
        "num_input_channels=1\n",
        "num_classes=2\n",
        "\n",
        "class StarNet(nn.Module):\n",
        "    def __init__(self):\n",
        "        super(StarNet, self).__init__()\n",
        "        self.conv1 = nn.Conv2d(1, 16, 3, padding='same')\n",
        "        self.conv2 = nn.Conv2d(16, 32, 3, padding='same')\n",
        "        # global pool\n",
        "        self.fc1 = nn.Linear(320000, 128)\n",
        "        self.fc2 = nn.Linear(128, 2)\n",
        "        self.relu = nn.ReLU()\n",
        "    def forward(self, x):\n",
        "        x = self.relu(self.conv1(x))\n",
        "        x = self.relu(self.conv2(x))\n",
        "        x = x.view(x.size(0), -1)\n",
        "        x = self.relu(self.fc1(x))\n",
        "        x = self.fc2(x)\n",
        "        return x\n",
        "\n",
        "\n",
        "\n",
        "\n",
        "#testing:\n",
        "testData=torch.rand((1,1,100,100))\n",
        "testNet=StarNet()\n",
        "testNet.forward(testData)"
      ]
    },
    {
      "cell_type": "code",
      "execution_count": 21,
      "metadata": {
        "id": "kCUFfJsFN7op"
      },
      "outputs": [],
      "source": [
        "#%% define loss'es\n",
        "loss1=nn.MSELoss()\n",
        "loss2=nn.L1Loss()\n",
        "loss_fn = lambda y_pred, y : 0.5 * loss1(y_pred, y) + 2 * loss2(y_pred, y) #some combination of loss1 and loss2"
      ]
    },
    {
      "cell_type": "code",
      "execution_count": 24,
      "metadata": {
        "id": "gOCTOuj3FR0X"
      },
      "outputs": [],
      "source": [
        "#%% train & validate\n",
        "\n",
        "nEpoch=10\n",
        "\n",
        "net=StarNet()\n",
        "optimizer=torch.optim.Adam(net.parameters(),lr=0.001)\n",
        "\n",
        "\n",
        "for iEpoch in range(nEpoch):\n",
        "   \n",
        "    totTrainLoss = 0\n",
        "    totValLoss = 0\n",
        "    for xbatch,ybatch in trainLoader:\n",
        "        optimizer.zero_grad()\n",
        "        yhat=net.forward(xbatch)\n",
        "        loss=loss_fn(yhat,ybatch)\n",
        "        loss.backward()\n",
        "        optimizer.step()\n",
        "        totTrainLoss+=loss.item()\n",
        "        \n",
        "        #the usual. pass the output of your network to the custom loss function you made above\n",
        "        #use it to update the weights\n",
        "    \n",
        "        \n",
        "   \n",
        "    for xbatch,ybatch in valLoader:\n",
        "        yhat=net.forward(xbatch)\n",
        "        loss=loss_fn(yhat,ybatch)\n",
        "        totValLoss+=loss.item()\n",
        "        #same as above, but now for the validation set\n",
        "        #remember to watch the loss on the validation data\n",
        "   \n",
        "\n"
      ]
    },
    {
      "cell_type": "code",
      "execution_count": 32,
      "metadata": {
        "id": "u5l1QdAgPB6z"
      },
      "outputs": [
        {
          "ename": "AttributeError",
          "evalue": "'Figure' object has no attribute 'plot'",
          "output_type": "error",
          "traceback": [
            "\u001b[1;31m---------------------------------------------------------------------------\u001b[0m",
            "\u001b[1;31mAttributeError\u001b[0m                            Traceback (most recent call last)",
            "Cell \u001b[1;32mIn [32], line 9\u001b[0m\n\u001b[0;32m      7\u001b[0m ax1 \u001b[39m=\u001b[39m plt\u001b[39m.\u001b[39mfigure()\n\u001b[0;32m      8\u001b[0m classific \u001b[39m=\u001b[39m yhat\u001b[39m.\u001b[39mcpu()\u001b[39m.\u001b[39mdetach()\u001b[39m.\u001b[39mnumpy()[:,\u001b[39m0\u001b[39m]\u001b[39m.\u001b[39mround()\n\u001b[1;32m----> 9\u001b[0m ax1\u001b[39m.\u001b[39mplot(classific, ybatch\u001b[39m.\u001b[39mcpu()\u001b[39m.\u001b[39mdetach()\u001b[39m.\u001b[39mnumpy()[:,\u001b[39m0\u001b[39m],\u001b[39m'\u001b[39m\u001b[39mro\u001b[39m\u001b[39m'\u001b[39m)\n\u001b[0;32m     10\u001b[0m ax1\u001b[39m.\u001b[39mxlabel(\u001b[39m'\u001b[39m\u001b[39mpredicted\u001b[39m\u001b[39m'\u001b[39m)\n\u001b[0;32m     11\u001b[0m ax1\u001b[39m.\u001b[39mylabel(\u001b[39m'\u001b[39m\u001b[39mtrue\u001b[39m\u001b[39m'\u001b[39m)\n",
            "\u001b[1;31mAttributeError\u001b[0m: 'Figure' object has no attribute 'plot'"
          ]
        },
        {
          "data": {
            "text/plain": [
              "<Figure size 640x480 with 0 Axes>"
            ]
          },
          "metadata": {},
          "output_type": "display_data"
        }
      ],
      "source": [
        "#evaluate\n",
        "#plot model results\n",
        "#plot loss\n",
        "for xbatch,ybatch in valLoader:\n",
        "    #xbatch, ybatch = xbatch.to(device), ybatch.to(device)\n",
        "    yhat=net(xbatch)\n",
        "    ax1 = plt.figure()\n",
        "    classific = yhat.cpu().detach().numpy()[:,0].round()\n",
        "    ax1.plot(classific, ybatch.cpu().detach().numpy()[:,0],'ro')\n",
        "    ax1.xlabel('predicted')\n",
        "    ax1.ylabel('true')\n",
        "    ax2 = plt.figure()\n",
        "    \n",
        "    ax2.plot(yhat.cpu().detach().numpy()[:,1],ybatch.cpu().detach().numpy()[:,1],'go')\n",
        "    ax2.xlabel('predicted')\n",
        "    ax2.ylabel('true')\n",
        "    \n",
        "    \n",
        "plt.show()\n",
        "\n",
        "#plot accuracy\n",
        "\n",
        "\n",
        "#try plotting predictions vs. targets for both training data and validation data in a scatterplot, and see how much variation you've captured"
      ]
    }
  ],
  "metadata": {
    "accelerator": "GPU",
    "colab": {
      "collapsed_sections": [],
      "include_colab_link": true,
      "provenance": []
    },
    "kernelspec": {
      "display_name": "Python 3.10.4 ('dl-exercises')",
      "language": "python",
      "name": "python3"
    },
    "language_info": {
      "codemirror_mode": {
        "name": "ipython",
        "version": 3
      },
      "file_extension": ".py",
      "mimetype": "text/x-python",
      "name": "python",
      "nbconvert_exporter": "python",
      "pygments_lexer": "ipython3",
      "version": "3.10.4"
    },
    "vscode": {
      "interpreter": {
        "hash": "69b06a0ddaba5a83e0e39cdce2d490039c28e76b31d88bc187c87a60be472187"
      }
    }
  },
  "nbformat": 4,
  "nbformat_minor": 0
}
